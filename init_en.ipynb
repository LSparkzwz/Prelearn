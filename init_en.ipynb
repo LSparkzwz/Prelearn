{
  "nbformat": 4,
  "nbformat_minor": 0,
  "metadata": {
    "colab": {
      "name": "init_en.ipynb",
      "provenance": [],
      "collapsed_sections": []
    },
    "kernelspec": {
      "name": "python3",
      "display_name": "Python 3"
    }
  },
  "cells": [
    {
      "cell_type": "code",
      "metadata": {
        "id": "9vurXuTaNCHn",
        "colab_type": "code",
        "colab": {}
      },
      "source": [
        "#imports\n",
        "!pip install wikipedia\n",
        "!pip install fasttext\n",
        "!pip install gensim\n",
        "!pip install nltk\n",
        "!pip install wikipedia-api\n",
        "\n",
        "import string\n",
        "import pandas as pd\n",
        "import wikipedia\n",
        "import wikipediaapi\n",
        "import fasttext\n",
        "import fasttext.util\n",
        "from pprint import pprint as print\n",
        "from gensim.models.fasttext import FastText as fasttext\n",
        "from gensim.test.utils import datapath\n",
        "from google.colab import drive\n",
        "import xml.etree.ElementTree as ET\n",
        "import re\n",
        "import nltk\n",
        "from nltk.stem.snowball import SnowballStemmer\n",
        "import fasttext.util\n",
        "import sklearn as sk\n",
        "from sklearn import svm\n",
        "import pandas as pd\n",
        "from sklearn.metrics import accuracy_score, precision_score, recall_score, f1_score\n",
        "from sklearn.linear_model import LogisticRegression\n",
        "from sklearn.ensemble import RandomForestClassifier\n",
        "import numpy as np"
      ],
      "execution_count": null,
      "outputs": []
    },
    {
      "cell_type": "code",
      "metadata": {
        "id": "25VnlWxIfHb3",
        "colab_type": "code",
        "colab": {}
      },
      "source": [
        "#initial setup\n",
        "nltk.download('punkt')\n",
        "nltk.download('stopwords')\n",
        "\n",
        "fasttext.util.download_model('en', if_exists='ignore') \n",
        "ft = fasttext.load_model('cc.en.300.bin')\n",
        "\n",
        "drive.mount('/content/drive')\n"
      ],
      "execution_count": null,
      "outputs": []
    }
  ]
}