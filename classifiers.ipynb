{
  "nbformat": 4,
  "nbformat_minor": 0,
  "metadata": {
    "colab": {
      "name": "classifiers.ipynb",
      "provenance": [],
      "collapsed_sections": []
    },
    "kernelspec": {
      "name": "python3",
      "display_name": "Python 3"
    }
  },
  "cells": [
    {
      "cell_type": "code",
      "metadata": {
        "id": "6apDNd2rtrOb",
        "colab_type": "code",
        "colab": {}
      },
      "source": [
        "#Logistic regression\n",
        "\n",
        "#train\n",
        "LR = LogisticRegression(max_iter=10000)\n",
        "LR.fit(X_train, y_train)\n",
        "\n",
        "#validate\n",
        "y_pred = LR.predict(X_test)\n",
        "\n",
        "print('Accuracy score: {:3f}'.format(accuracy_score(y_test, y_pred)))\n",
        "print('Precision score: {:3f}'.format(precision_score(y_test, y_pred)))\n",
        "print('Recall score: {:3f}'.format(recall_score(y_test, y_pred)))\n",
        "print('F1 score: {:3f}'.format(f1_score(y_test, y_pred)))"
      ],
      "execution_count": null,
      "outputs": []
    },
    {
      "cell_type": "code",
      "metadata": {
        "id": "il-LmMAk_JxR",
        "colab_type": "code",
        "colab": {}
      },
      "source": [
        "#Linear SVM\n",
        "\n",
        "#train\n",
        "SVM = svm.LinearSVC(max_iter=100000,C=500)\n",
        "SVM.fit(X_train, y_train)\n",
        "\n",
        "#validate\n",
        "y_pred = SVM.predict(X_test)\n",
        "\n",
        "print('Accuracy score: {:3f}'.format(accuracy_score(y_test, y_pred)))\n",
        "print('Precision score: {:3f}'.format(precision_score(y_test, y_pred)))\n",
        "print('Recall score: {:3f}'.format(recall_score(y_test, y_pred)))\n",
        "print('F1 score: {:3f}'.format(f1_score(y_test, y_pred)))\n"
      ],
      "execution_count": null,
      "outputs": []
    },
    {
      "cell_type": "code",
      "metadata": {
        "id": "zwI9Z6vgWZ3Z",
        "colab_type": "code",
        "colab": {}
      },
      "source": [
        "#rbf SVM\n",
        "\n",
        "#train\n",
        "SVM = svm.SVC(max_iter=100000,C=500, gamma=10)\n",
        "SVM.fit(X_train, y_train)\n",
        "\n",
        "#validate\n",
        "y_pred = SVM.predict(X_test)\n",
        "\n",
        "print('Accuracy score: {:3f}'.format(accuracy_score(y_test, y_pred)))\n",
        "print('Precision score: {:3f}'.format(precision_score(y_test, y_pred)))\n",
        "print('Recall score: {:3f}'.format(recall_score(y_test, y_pred)))\n",
        "print('F1 score: {:3f}'.format(f1_score(y_test, y_pred)))"
      ],
      "execution_count": null,
      "outputs": []
    },
    {
      "cell_type": "code",
      "metadata": {
        "id": "NdDtCdZVNzoT",
        "colab_type": "code",
        "colab": {}
      },
      "source": [
        "#Random Forest\n",
        "\n",
        "#train\n",
        "RF = RandomForestClassifier(max_features = None)\n",
        "RF.fit(X_train, y_train)\n",
        "\n",
        "#validate\n",
        "y_pred = RF.predict(X_test)\n",
        "\n",
        "print('Accuracy score: {:3f}'.format(accuracy_score(y_test, y_pred)))\n",
        "print('Precision score: {:3f}'.format(precision_score(y_test, y_pred)))\n",
        "print('Recall score: {:3f}'.format(recall_score(y_test, y_pred)))\n",
        "print('F1 score: {:3f}'.format(f1_score(y_test, y_pred)))"
      ],
      "execution_count": null,
      "outputs": []
    }
  ]
}